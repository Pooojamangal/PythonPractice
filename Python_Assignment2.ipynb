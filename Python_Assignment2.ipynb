{
 "cells": [
  {
   "cell_type": "markdown",
   "id": "33f45aff",
   "metadata": {},
   "source": [
    "1. What are the two values of the Boolean data type? How do you write them?\n",
    "\n",
    "Ans: The two type of values of boolean Datatype are true and false, we write them with Capital T and F,\n",
    "0 and 1 also represents the booleans values"
   ]
  },
  {
   "cell_type": "code",
   "execution_count": null,
   "id": "ec6a8bb0",
   "metadata": {},
   "outputs": [],
   "source": []
  },
  {
   "cell_type": "markdown",
   "id": "c421e61b",
   "metadata": {},
   "source": [
    "2. What are the three different types of Boolean operators?\n",
    "\n",
    "Ans: here are three logical operators that are used to compare values. They evaluate expressions down to Boolean values, returning either True or False . \n",
    "These operators are \"and\" , \"or\" , and \"not\" and are defined in the table below."
   ]
  },
  {
   "cell_type": "code",
   "execution_count": null,
   "id": "79e77a7f",
   "metadata": {},
   "outputs": [],
   "source": []
  },
  {
   "cell_type": "markdown",
   "id": "00426d8a",
   "metadata": {},
   "source": [
    "3. Make a list of each Boolean operator's truth tables (i.e. every possible combination of Boolean\n",
    "values for the operator and what it evaluate)\n",
    "\n",
    "ans: A and B is represented as the boolean value combination and Z is the evaluated value\n",
    "\n",
    "And Gate\n",
    "The AND gate gives an output of 1 if both the two inputs are 1, it gives 0 otherwise. \n",
    "A\tB\tZ\n",
    "0\t0\t0\n",
    "0\t1\t0\n",
    "1\t0\t0\n",
    "1\t1\t1\n",
    "\n",
    "OR Gate\n",
    "The OR gate gives an output of 1 if either of the two inputs are 1, it gives 0 otherwise. \n",
    " \n",
    "A\tB\tZ\n",
    "0\t0\t0\n",
    "0\t1\t1\n",
    "1\t0\t1\n",
    "1\t1\t1\n",
    "\n",
    "NOT Gate \n",
    "It acts as an inverter. It takes only one input. If the input is given as 1, it will invert the result as 0 and vice-versa. \n",
    "A   Z\n",
    "1   0\n",
    "0   1"
   ]
  },
  {
   "cell_type": "code",
   "execution_count": null,
   "id": "90a9972e",
   "metadata": {},
   "outputs": [],
   "source": []
  },
  {
   "cell_type": "markdown",
   "id": "1e1227a9",
   "metadata": {},
   "source": [
    "4. What are the values of the following expressions?\n",
    "\n",
    "(5 > 4) and (3 == 5) \n",
    "-False\n",
    "not (5 > 4) \n",
    "-False\n",
    "(5 > 4) or (3 == 5)\n",
    "-True\n",
    "not ((5 > 4) or (3 == 5))\n",
    "False\n",
    "(True and True) and (True == False)\n",
    "False\n",
    "(not False) or (not True)\n",
    "False"
   ]
  },
  {
   "cell_type": "code",
   "execution_count": null,
   "id": "f5432c73",
   "metadata": {},
   "outputs": [],
   "source": []
  },
  {
   "cell_type": "markdown",
   "id": "981b74b2",
   "metadata": {},
   "source": [
    "5. What are the six comparison operators?\n",
    "\n",
    "1. ==\n",
    "2. >=\n",
    "3. <=\n",
    "4. !=\n",
    "5.  >\n",
    "6.  <"
   ]
  },
  {
   "cell_type": "markdown",
   "id": "8223e47d",
   "metadata": {},
   "source": [
    "6. How do you tell the difference between the equal to and assignment operators?Describe a\n",
    "condition and when you would use one. \n",
    "\n",
    "The assignment operator is a single equals to symbol i.e '='\n",
    "whereas the comparison operator is double equals to symbol i.e '=='\n",
    "\n",
    "The assignment operator is used when we assign a value to the variable\n",
    "for eg a = 10, here 10 is stored in variable a in some memory location.\n",
    "the comparison operator is used when two values are in need to evaluate and produce a \n",
    "third product for eg  a == 10 will return true \n"
   ]
  },
  {
   "cell_type": "code",
   "execution_count": 11,
   "id": "61064214",
   "metadata": {},
   "outputs": [
    {
     "data": {
      "text/plain": [
       "True"
      ]
     },
     "execution_count": 11,
     "metadata": {},
     "output_type": "execute_result"
    }
   ],
   "source": [
    "a = 10\n",
    "a == 10"
   ]
  },
  {
   "cell_type": "code",
   "execution_count": null,
   "id": "2b5e5d90",
   "metadata": {},
   "outputs": [],
   "source": []
  },
  {
   "cell_type": "markdown",
   "id": "382bb7f1",
   "metadata": {},
   "source": [
    "8. Identify the three blocks in this code:\n",
    "spam = 0\n",
    "if spam == 10:\n",
    "    print('eggs')\n",
    "    if spam > 5:\n",
    "        print('bacon')\n",
    "else:\n",
    "    print('ham')\n",
    "    print('spam')\n",
    "    print('spam')\n",
    "    \n",
    "The output is:\n",
    "ham\n",
    "spam\n",
    "spam\n",
    "    "
   ]
  },
  {
   "cell_type": "code",
   "execution_count": null,
   "id": "11c09091",
   "metadata": {},
   "outputs": [],
   "source": []
  },
  {
   "cell_type": "code",
   "execution_count": 34,
   "id": "463780a7",
   "metadata": {},
   "outputs": [
    {
     "name": "stdout",
     "output_type": "stream",
     "text": [
      "Greetings!\n"
     ]
    }
   ],
   "source": [
    "#8. Write code that prints Hello if 1 is stored in spam, prints Howdy if 2 is stored in spam, and prints\n",
    "#Greetings! if anything else is stored in spam\n",
    "spam = 7\n",
    "if  spam == 1:\n",
    "    print(\"hello\")\n",
    "elif spam==2:\n",
    "    print(\"Howdy\")\n",
    "else:\n",
    "    print(\"Greetings!\")"
   ]
  },
  {
   "cell_type": "code",
   "execution_count": null,
   "id": "c6ebcfe6",
   "metadata": {},
   "outputs": [],
   "source": []
  },
  {
   "cell_type": "raw",
   "id": "95aa35ae",
   "metadata": {},
   "source": [
    "9.If your programme is stuck in an endless loop, what keys you’ll press?\n",
    " press Ctrl + C .\n"
   ]
  },
  {
   "cell_type": "code",
   "execution_count": null,
   "id": "81e044fb",
   "metadata": {},
   "outputs": [],
   "source": []
  },
  {
   "cell_type": "markdown",
   "id": "aa1ccfec",
   "metadata": {},
   "source": [
    "10. How can you tell the difference between break and continue?\n",
    "\n",
    "The break statement stops the loop in which the statement is placed. A continue statement skips a single iteration in a loop."
   ]
  },
  {
   "cell_type": "code",
   "execution_count": null,
   "id": "15d8e5e6",
   "metadata": {},
   "outputs": [],
   "source": []
  },
  {
   "cell_type": "markdown",
   "id": "cdbb4f5b",
   "metadata": {},
   "source": [
    "11. In a for loop, what is the difference between range(10), range(0, 10), and range(0, 10, 1)?\n",
    "\n",
    "The range() function returns a sequence of numbers, starting from 0 by default, and increments by 1 (by default), and ends at a specified number.\n",
    " 1. range(10) here the range is 1 to 10 that'll print 0 to 9 digits  \n",
    "The range() function defaults to 0 as a starting value, however it is possible to specify the starting value by adding a parameter: range(0, 10), which means values from 0 to 10 (but not including 10):\n",
    "The range() function defaults to increment the sequence by 1, however it is possible to specify the increment value by adding a third parameter: range(0, 10, 1):\n"
   ]
  },
  {
   "cell_type": "code",
   "execution_count": null,
   "id": "f6ca8684",
   "metadata": {},
   "outputs": [],
   "source": []
  },
  {
   "cell_type": "code",
   "execution_count": 39,
   "id": "6da390b3",
   "metadata": {},
   "outputs": [
    {
     "name": "stdout",
     "output_type": "stream",
     "text": [
      "0\n",
      "1\n",
      "2\n",
      "3\n",
      "4\n",
      "5\n",
      "6\n",
      "7\n",
      "8\n",
      "9\n",
      "10\n"
     ]
    }
   ],
   "source": [
    "#12. Write a short program that prints the numbers 1 to 10 using a for loop. Then write an equivalent\n",
    "#program that prints the numbers 1 to 10 using a while loop\n",
    "\n",
    "for x in range(11):\n",
    "    print(x)\n",
    "    \n",
    "i = 1\n"
   ]
  },
  {
   "cell_type": "markdown",
   "id": "8718aa39",
   "metadata": {},
   "source": [
    "while(i<=10):\n",
    "    print(i)\n",
    "    i += 1"
   ]
  },
  {
   "cell_type": "code",
   "execution_count": null,
   "id": "cd462b18",
   "metadata": {},
   "outputs": [],
   "source": []
  },
  {
   "cell_type": "code",
   "execution_count": null,
   "id": "8e28a63f",
   "metadata": {},
   "outputs": [],
   "source": [
    "13. If you had a function named bacon() inside a module named spam, how would you call it after\n",
    "importing spam?\n",
    "\n",
    "This function can be called with spam.bacon()."
   ]
  }
 ],
 "metadata": {
  "kernelspec": {
   "display_name": "Python 3",
   "language": "python",
   "name": "python3"
  },
  "language_info": {
   "codemirror_mode": {
    "name": "ipython",
    "version": 3
   },
   "file_extension": ".py",
   "mimetype": "text/x-python",
   "name": "python",
   "nbconvert_exporter": "python",
   "pygments_lexer": "ipython3",
   "version": "3.8.8"
  }
 },
 "nbformat": 4,
 "nbformat_minor": 5
}
