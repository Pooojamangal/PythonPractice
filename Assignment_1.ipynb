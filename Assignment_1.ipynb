{
 "cells": [
  {
   "cell_type": "markdown",
   "id": "6e57d570",
   "metadata": {},
   "source": [
    "1. In the below elements which of them are values or an expression? eg:- values can be integer or string and expressions will be mathematical operators.\n",
    "\n",
    " *     = operator \n",
    "'hello' = value\n",
    "-87.8   = value\n",
    "    -   =operator\n",
    "    /   =operator\n",
    "    +   =operator\n",
    "    6   =value\n"
   ]
  },
  {
   "cell_type": "markdown",
   "id": "ee6b37a8",
   "metadata": {},
   "source": [
    "2. What is the difference between string and variable?\n",
    "\n",
    " A.Variable is a Space created in memory to store values\n",
    " for eg: a = 10; a is a variable here and 10 is the value which \n",
    "      occupies some memory in system.\n",
    "      \n",
    " B.String is an array of character and a python datatype, which immutable means\n",
    "  we cannot directly modify or reconstruct but have to do reassignment to change the values.\n",
    "  for eg: s = \"pooja mamgal\" # strings are written in sigle,double or triple quotes.\n",
    "  "
   ]
  },
  {
   "cell_type": "markdown",
   "id": "8ecd4a62",
   "metadata": {},
   "source": [
    "3. Describe three different data types.\n",
    "  int = integer is a datatype used to stored whole,positive and negative numbers eg. 1226365\n",
    "  float = float numbers are integers but with decimals points eg 12.132323\n",
    "  list= list is array of one or combinations of datatypes and are mutable. \n",
    "        mutable eg: l =['rtee',232,'sds',True,1.54]"
   ]
  },
  {
   "cell_type": "markdown",
   "id": "8dc4ee4d",
   "metadata": {},
   "source": [
    "4. What is an expression made up of? What do all expressions do?\n",
    "\n",
    "An expression is made of operators and operands.\n",
    "Expressions need to be evaluate. the interpreter evaluates the expression and displays the result."
   ]
  },
  {
   "cell_type": "markdown",
   "id": "a5e15f17",
   "metadata": {},
   "source": [
    "5. This assignment statements, like spam = 10. What is the difference between an expression and a statement?\n",
    "Statements represent an action or command e.g print statements, assignment statements.\n",
    "\n",
    "print 'hello', x = 1\n",
    "Expression is a combination of variables, operations and values that yields a result value.\n",
    "\n",
    "5 * 5 # result 25\n"
   ]
  },
  {
   "cell_type": "code",
   "execution_count": 11,
   "id": "86779f5e",
   "metadata": {},
   "outputs": [
    {
     "data": {
      "text/plain": [
       "23"
      ]
     },
     "execution_count": 11,
     "metadata": {},
     "output_type": "execute_result"
    }
   ],
   "source": [
    "#6. After running the following code, what does the variable bacon contain?\n",
    "bacon = 22\n",
    "bacon + 1\n",
    "# bacon contains 22 because we are just adding 1 \n",
    "# to variable locally and not assigning any value so the\n",
    "#original variable will remain unmute."
   ]
  },
  {
   "cell_type": "markdown",
   "id": "1fafc07c",
   "metadata": {},
   "source": [
    "#7. What should the values of the following two terms be?\n",
    "'spam' + 'spamspam'= #'spamspamspam'\n",
    "'spam' * 3 =  #'spamspamspam'\n"
   ]
  },
  {
   "cell_type": "markdown",
   "id": "6cd4eb47",
   "metadata": {},
   "source": [
    "8. Why is eggs a valid variable name while 100 is invalid?\n",
    "Python has some rules to declare variables and one rule states that a variable should not begain from numbers.\n",
    "\n"
   ]
  },
  {
   "cell_type": "markdown",
   "id": "c5cf67fa",
   "metadata": {},
   "source": [
    "9. What three functions can be used to get the integer, floating-point number, or string version of a value?\n",
    "\n",
    "int(),float() and str() function along with type() function to typecast the value are used."
   ]
  },
  {
   "cell_type": "markdown",
   "id": "2095d90f",
   "metadata": {},
   "source": [
    "10. Why does this expression cause an error? How can you fix it?\n",
    "'I have eaten ' + 99 + ' burritos.'\n",
    "\n",
    " TypeError: can only concatenate str (not \"int\") to str\n",
    " Reason: python does not support concatination of               heterogeneous datatypes in a single expression.\n",
    " fix for error: 'I have eaten ' + str(99) + ' burritos.'\n",
    " "
   ]
  }
 ],
 "metadata": {
  "kernelspec": {
   "display_name": "Python 3",
   "language": "python",
   "name": "python3"
  },
  "language_info": {
   "codemirror_mode": {
    "name": "ipython",
    "version": 3
   },
   "file_extension": ".py",
   "mimetype": "text/x-python",
   "name": "python",
   "nbconvert_exporter": "python",
   "pygments_lexer": "ipython3",
   "version": "3.8.8"
  }
 },
 "nbformat": 4,
 "nbformat_minor": 5
}
