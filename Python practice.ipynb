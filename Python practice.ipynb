{
 "cells": [
  {
   "cell_type": "code",
   "execution_count": 6,
   "id": "0cab557a",
   "metadata": {},
   "outputs": [
    {
     "name": "stdout",
     "output_type": "stream",
     "text": [
      "principle amount1000\n",
      "rate5\n",
      "time1\n",
      "50.0\n"
     ]
    }
   ],
   "source": [
    "#1. Calculate the Simple interest\n",
    "\n",
    "principle = int(input('principle amount: '))\n",
    "rate = int(input('rate: '))\n",
    "time = int(input('time: '))\n",
    "si = (principle*rate*time/100)\n",
    "print(si) "
   ]
  },
  {
   "cell_type": "code",
   "execution_count": 7,
   "id": "bda5ce8c",
   "metadata": {},
   "outputs": [
    {
     "name": "stdout",
     "output_type": "stream",
     "text": [
      "side measure5\n",
      "25\n"
     ]
    }
   ],
   "source": [
    "#2 calculate  area of squares\n",
    "\n",
    "side = int(input('side measure: '))\n",
    "area = side * side\n",
    "print(area)"
   ]
  },
  {
   "cell_type": "code",
   "execution_count": 1,
   "id": "7d12c350",
   "metadata": {},
   "outputs": [
    {
     "name": "stdout",
     "output_type": "stream",
     "text": [
      "length5\n",
      "width4\n",
      "20\n"
     ]
    }
   ],
   "source": [
    "#calculate area of reactangle\n",
    "l = int(input('length'))\n",
    "w = int(input('width'))\n",
    "area1 = l * w\n",
    "print(area1)"
   ]
  },
  {
   "cell_type": "code",
   "execution_count": 2,
   "id": "ffe96311",
   "metadata": {},
   "outputs": [
    {
     "name": "stdout",
     "output_type": "stream",
     "text": [
      "enter radius5\n",
      "78.5\n"
     ]
    }
   ],
   "source": [
    "#calculate area of circle\n",
    "radius = int(input('enter radius: '))\n",
    "area3 = 3.14*radius * radius\n",
    "print(area3)"
   ]
  },
  {
   "cell_type": "code",
   "execution_count": 4,
   "id": "a0fc2324",
   "metadata": {},
   "outputs": [
    {
     "name": "stdout",
     "output_type": "stream",
     "text": [
      "enter birth year1998\n",
      "23\n"
     ]
    }
   ],
   "source": [
    "#calculate age\n",
    "birthday = int(input('enter birth year: '))\n",
    "age = 2021 - birthday\n",
    "print(age)\n"
   ]
  },
  {
   "cell_type": "code",
   "execution_count": 5,
   "id": "dd5eb051",
   "metadata": {},
   "outputs": [
    {
     "name": "stdout",
     "output_type": "stream",
     "text": [
      "enter mark1  50\n",
      "enter mark2  50\n",
      "enter mark3  50\n",
      "enter mark4  50\n",
      "enter mark5  50\n",
      "250 \n",
      " 50.0\n"
     ]
    }
   ],
   "source": [
    "#calculate marks and percentage\n",
    "mark1 =int(input('enter mark1  '))\n",
    "mark2 =int(input('enter mark2  '))\n",
    "mark3 =int(input('enter mark3  '))\n",
    "mark4 =int(input('enter mark4  '))\n",
    "mark5 =int(input('enter mark5  '))\n",
    "\n",
    "totalMarks = mark1 + mark2 + mark3 + mark4 + mark5\n",
    "percentage = totalMarks/500*100\n",
    "print(totalMarks,'\\n',percentage)"
   ]
  },
  {
   "cell_type": "code",
   "execution_count": 29,
   "id": "7d192557",
   "metadata": {},
   "outputs": [
    {
     "name": "stdout",
     "output_type": "stream",
     "text": [
      "enter mark1  50\n",
      "enter mark2  50\n",
      "enter mark3  50\n",
      "enter mark4  50\n",
      "enter mark5  50\n",
      "B grade\n"
     ]
    }
   ],
   "source": [
    "#calculate marks and percentage\n",
    "mrk1 =int(input('enter mark1  '))\n",
    "mrk2 =int(input('enter mark2  '))\n",
    "mrk3 =int(input('enter mark3  '))\n",
    "mrk4 =int(input('enter mark4  '))\n",
    "mrk5 =int(input('enter mark5  '))\n",
    "\n",
    "totalMrks = mrk1 + mrk2 + mrk3 + mrk4 + mrk5\n",
    "percntage = totalMrks/500*100\n",
    "\n",
    "if percntage > 70:\n",
    " print(\"A grade\")\n",
    "elif(percntage <69 and percntage>40):\n",
    " print(\"B grade\")\n",
    "else: \n",
    " print(\"c grade\")\n"
   ]
  },
  {
   "cell_type": "code",
   "execution_count": 36,
   "id": "7c89b6b1",
   "metadata": {},
   "outputs": [
    {
     "name": "stdout",
     "output_type": "stream",
     "text": [
      "enter numbver2457\n",
      "odd\n"
     ]
    }
   ],
   "source": [
    "#even odd\n",
    "number = int(input('enter numbver'))\n",
    "if(number%2)==0:\n",
    "  print('even')\n",
    "else:\n",
    " print('odd')"
   ]
  },
  {
   "cell_type": "code",
   "execution_count": null,
   "id": "3b553c01",
   "metadata": {},
   "outputs": [],
   "source": []
  }
 ],
 "metadata": {
  "kernelspec": {
   "display_name": "Python 3",
   "language": "python",
   "name": "python3"
  },
  "language_info": {
   "codemirror_mode": {
    "name": "ipython",
    "version": 3
   },
   "file_extension": ".py",
   "mimetype": "text/x-python",
   "name": "python",
   "nbconvert_exporter": "python",
   "pygments_lexer": "ipython3",
   "version": "3.8.8"
  }
 },
 "nbformat": 4,
 "nbformat_minor": 5
}
